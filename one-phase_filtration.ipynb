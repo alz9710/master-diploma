{
 "cells": [
  {
   "source": [
    "<!-- Макросы ЛаТеХ -->\n",
    "$\n",
    "\\newcommand\\dx{\\, \\mathrm{d}x}\n",
    "\\newcommand\\ds{\\, \\mathrm{d}s}\n",
    "$"
   ],
   "cell_type": "markdown",
   "metadata": {}
  },
  {
   "cell_type": "markdown",
   "metadata": {
    "Collapsed": "false",
    "ExecuteTime": {
     "end_time": "2019-11-02T19:41:51.568261Z",
     "start_time": "2019-11-02T19:41:51.558237Z"
    },
    "toc-hr-collapsed": true
   },
   "source": [
    "# Классическая постановка однофазной фильтрации"
   ]
  },
  {
   "cell_type": "markdown",
   "metadata": {
    "Collapsed": "false",
    "ExecuteTime": {
     "end_time": "2019-11-03T18:06:42.615752Z",
     "start_time": "2019-11-03T18:06:42.597820Z"
    },
    "cell_style": "center",
    "code_folding": [],
    "hide_input": false
   },
   "source": [
    "Классическая постановка:\n",
    "$$\n",
    "\\begin{alignedat}{3}\n",
    "\\frac \\partial {\\partial t} \\left( m \\rho \\right) &+ \\nabla \\cdot \\left( \\rho \\mathbf w \\right) = 0\n",
    "  && \\quad \\mathbf x \\in \\Omega\n",
    "  && \\quad t \\in (0, T]\n",
    "\\\\\n",
    "p &= p_0\n",
    "  && \\quad \\mathbf x \\in \\Omega \\quad && \\quad t = 0 % \\cup \\partial \\Omega\n",
    "\\\\\n",
    "p &= p_0 \\exp(-at)\n",
    "  && \\quad \\mathbf x \\in \\Gamma_с\n",
    "  && \\quad t \\in (0, T]\n",
    "\\\\\n",
    "p &= p_0\n",
    "  && \\quad \\mathbf x \\in \\Gamma_к\n",
    "  && \\quad t \\in (0, T]\n",
    "\\end{alignedat}\n",
    "$$\n",
    "\n",
    "Обозначения:\n",
    "$$\n",
    "\\begin{alignedat}{2}\n",
    "\\mathbf w &\\equiv \\mathbf w(p) &&= - \\frac k \\mu \\nabla p \\\\\n",
    "\\rho &\\equiv \\rho(p) &&= \\rho_0 \\exp\\left(\\beta\\left(p - p_0\\right)\\right) \\\\\n",
    "k &\\equiv k(\\mathbf x) &&= \\left\\{\\begin{alignedat}{2}\n",
    "    & k_н   && \\quad \\text{если } \\mathbf x \\in \\Omega_н \\\\\n",
    "    & k_{пл} && \\quad \\text{если } \\mathbf x \\in \\Omega \\setminus \\Omega_н\n",
    "  \\end{alignedat}\\right. \\\\\n",
    "p &\\equiv p(\\mathbf x, t) \\hspace{-2cm} &&\n",
    "\\end{alignedat}\n",
    "$$\n",
    "\n",
    "<!-- $$ \\mathbf x \\in \\mathbb{R}^2 $$ -->\n",
    "\n",
    "Области и границы (множества):\n",
    "$$\n",
    "\\begin{alignedat}{1}\n",
    "\\Omega &= \\left\\{ \\mathbf x \\in \\mathbb{R}^2 : \\, |\\mathbf x| \\in (r_с, \\, r_к) \\right\\} \\\\ %\\text{ — открытое множество}\n",
    "\\Omega_н &= \\left\\{ \\mathbf x \\in \\mathbb{R}^2 : \\, |\\mathbf x| \\in [r_{н_0}, \\, r_{н_1}] \\right\\} \\\\\n",
    "\\Gamma_с &= \\left\\{ \\mathbf x \\in \\mathbb{R}^2 : \\, |\\mathbf x| = r_с \\right\\} \\\\\n",
    "\\Gamma_к &= \\left\\{ \\mathbf x \\in \\mathbb{R}^2 : \\, |\\mathbf x| = r_к \\right\\} \\\\\n",
    "%\\partial \\Omega &= \\{ \\mathbf x \\in \\mathbb{R}^2 | \\, |\\mathbf x| \\in \\{r_{н_0}, \\, r_{н_1}\\} \\} = \\Gamma_\\text с \\cup \\Gamma_\\text к\n",
    "\\end{alignedat}\n",
    "$$\n",
    "\n",
    "$\\Omega$ — открытое множество (область)"
   ]
  },
  {
   "cell_type": "markdown",
   "metadata": {
    "Collapsed": "false"
   },
   "source": [
    "# $\\theta$-схема и обобщенная постановка"
   ]
  },
  {
   "cell_type": "markdown",
   "metadata": {
    "Collapsed": "false"
   },
   "source": [
    "$$\n",
    "\\frac \\partial {\\partial t} \\left( m \\rho \\right) + \\nabla \\cdot \\left( \\rho \\mathbf w \\right) = 0\n",
    "$$"
   ]
  },
  {
   "cell_type": "markdown",
   "metadata": {
    "Collapsed": "false"
   },
   "source": [
    "$\\theta$-схема:\n",
    "\n",
    "$$\n",
    "\\frac {m \\rho^k - m \\rho^{k-1}} {\\tau}\n",
    "  + \\, \\theta \\, \\nabla \\cdot \\left(\\rho^k \\, \\mathbf w^k\\right)\n",
    "  + \\left(1 - \\theta\\right) \\nabla \\cdot \\left(\\rho^{k-1} \\, \\mathbf w^{k-1}\\right)\n",
    "= 0\n",
    "$$"
   ]
  },
  {
   "cell_type": "markdown",
   "metadata": {
    "Collapsed": "false"
   },
   "source": [
    "Преобразование:\n",
    "\n",
    "$$\n",
    "\\begin{aligned}\n",
    "m \\rho^k - m \\rho^{k-1}\n",
    "  + \\tau \\, \\theta \\, \\nabla \\cdot \\left(\\rho^k \\, \\mathbf w^k\\right)\n",
    "  + \\tau \\left(1 - \\theta\\right) \\nabla \\cdot \\left(\\rho^{k-1} \\, \\mathbf w^{k-1}\\right)\n",
    "&= 0\n",
    "\\\\\n",
    "\\int_\\Omega \\Big(\n",
    "m \\rho^k v - m \\rho^{k-1} v\n",
    "  + \\tau \\, \\theta \\, \\nabla \\cdot \\left(\\rho^k \\, \\mathbf w^k\\right) v\n",
    "  + \\tau \\left(1 - \\theta\\right) \\nabla \\cdot \\left(\\rho^{k-1} \\, \\mathbf w^{k-1}\\right) v\n",
    "\\Big) \\dx &= \\int_\\Omega 0 \\cdot v \\dx\n",
    "\\end{aligned}\n",
    "$$\n",
    "\n",
    "$$\n",
    "\\int_\\Omega \\nabla \\cdot (\\rho \\mathbf w) \\, v \\dx\n",
    "= - \\int_\\Omega \\rho \\mathbf w \\cdot \\nabla v \\dx\n",
    "+ \\underbrace{\\int_{\\partial\\Omega} (\\rho \\mathbf w \\cdot \\mathbf n) \\, v \\ds}_{0}\n",
    "$$\n",
    "\n",
    "$$\n",
    "\\begin{aligned}\n",
    "\\int_\\Omega \\Big(\n",
    "m \\rho^k v - m \\rho^{k-1} v\n",
    "  - \\tau \\, \\theta \\, \\left(\\rho^k \\, \\mathbf w^k\\right) \\cdot \\nabla v\n",
    "  - \\tau \\left(1 - \\theta\\right) \\left(\\rho^{k-1} \\, \\mathbf w^{k-1}\\right) \\cdot \\nabla v\n",
    "\\Big) \\dx &= 0\n",
    "\\\\\n",
    "\\int_\\Omega \\Big(\n",
    "m \\rho^k v - m \\rho^{k-1} v\n",
    "  - \\tau \\, \\theta \\, \\rho^k \\, \\mathbf w^k \\cdot \\nabla v\n",
    "  - \\tau \\left(1 - \\theta\\right) \\rho^{k-1} \\, \\mathbf w^{k-1} \\cdot \\nabla v\n",
    "\\Big) \\dx &= 0\n",
    "\\end{aligned}\n",
    "$$"
   ]
  },
  {
   "cell_type": "markdown",
   "metadata": {
    "Collapsed": "false"
   },
   "source": [
    "Обобщенная постановка:\n",
    "$$\n",
    "p^k \\in V: F(p^k, v) = 0 \\quad \\forall v \\in \\hat V\n",
    "$$\n",
    "\n",
    "$$\n",
    "F(p^k, v) = \\int_\\Omega m \\rho^k v - m \\rho^{k-1} v\n",
    "  - \\tau \\, \\theta \\, \\rho^k \\, \\mathbf w^k \\cdot \\nabla v\n",
    "  - \\tau \\left(1 - \\theta\\right) \\rho^{k-1} \\, \\mathbf w^{k-1} \\cdot \\nabla v\n",
    "$$\n",
    "\n",
    "$$\n",
    "\\begin{aligned}\n",
    "V &= \\left\\{ v \\in H^1(\\Omega) : v = p \\land \\mathbf x \\in \\partial \\Omega \\right\\} \\\\\n",
    "\\hat V &= \\left\\{ v \\in H^1(\\Omega) : v = 0 \\land \\mathbf x \\in \\partial \\Omega \\right\\}\n",
    "\\end{aligned}\n",
    "$$"
   ]
  },
  {
   "cell_type": "markdown",
   "metadata": {
    "Collapsed": "false"
   },
   "source": [
    "# Численное решение обобщенной постановки"
   ]
  },
  {
   "cell_type": "code",
   "execution_count": 3,
   "metadata": {
    "Collapsed": "false"
   },
   "outputs": [
    {
     "ename": "NameError",
     "evalue": "name 'p' is not defined",
     "output_type": "error",
     "traceback": [
      "\u001b[0;31m---------------------------------------------------------------------------\u001b[0m",
      "\u001b[0;31mNameError\u001b[0m                                 Traceback (most recent call last)",
      "\u001b[0;32m<ipython-input-3-fbcd4982019d>\u001b[0m in \u001b[0;36m<module>\u001b[0;34m\u001b[0m\n\u001b[1;32m      5\u001b[0m \u001b[0mrho0\u001b[0m \u001b[0;34m=\u001b[0m \u001b[0;36m1\u001b[0m\u001b[0;34m\u001b[0m\u001b[0;34m\u001b[0m\u001b[0m\n\u001b[1;32m      6\u001b[0m \u001b[0mp0\u001b[0m \u001b[0;34m=\u001b[0m \u001b[0;36m1\u001b[0m\u001b[0;34m\u001b[0m\u001b[0;34m\u001b[0m\u001b[0m\n\u001b[0;32m----> 7\u001b[0;31m \u001b[0mrho\u001b[0m \u001b[0;34m=\u001b[0m \u001b[0mrho0\u001b[0m \u001b[0;34m*\u001b[0m \u001b[0mexp\u001b[0m\u001b[0;34m(\u001b[0m\u001b[0mbeta\u001b[0m \u001b[0;34m*\u001b[0m \u001b[0;34m(\u001b[0m\u001b[0mp\u001b[0m \u001b[0;34m-\u001b[0m \u001b[0mp0\u001b[0m\u001b[0;34m)\u001b[0m\u001b[0;34m)\u001b[0m\u001b[0;34m\u001b[0m\u001b[0;34m\u001b[0m\u001b[0m\n\u001b[0m",
      "\u001b[0;31mNameError\u001b[0m: name 'p' is not defined"
     ]
    }
   ],
   "source": [
    "from fenics import *\n",
    "\n",
    "m = 1\n",
    "beta = 1\n",
    "rho0 = 1\n",
    "p0 = 1\n",
    "rho = rho0 * exp(beta * (p - p0))"
   ]
  },
  {
   "cell_type": "code",
   "execution_count": 5,
   "metadata": {
    "Collapsed": "false"
   },
   "outputs": [
    {
     "ename": "RecursionError",
     "evalue": "maximum recursion depth exceeded",
     "output_type": "error",
     "traceback": [
      "\u001b[0;31m---------------------------------------------------------------------------\u001b[0m",
      "\u001b[0;31mRecursionError\u001b[0m                            Traceback (most recent call last)",
      "\u001b[0;32m<ipython-input-5-6392bcc6af2a>\u001b[0m in \u001b[0;36m<module>\u001b[0;34m\u001b[0m\n\u001b[1;32m     72\u001b[0m             \u001b[0mvalues\u001b[0m\u001b[0;34m[\u001b[0m\u001b[0;36m0\u001b[0m\u001b[0;34m]\u001b[0m \u001b[0;34m=\u001b[0m \u001b[0;36m1.26e-6\u001b[0m   \u001b[0;31m# copper\u001b[0m\u001b[0;34m\u001b[0m\u001b[0;34m\u001b[0m\u001b[0m\n\u001b[1;32m     73\u001b[0m \u001b[0;34m\u001b[0m\u001b[0m\n\u001b[0;32m---> 74\u001b[0;31m \u001b[0mmu\u001b[0m \u001b[0;34m=\u001b[0m \u001b[0mPermeability\u001b[0m\u001b[0;34m(\u001b[0m\u001b[0mmarkers\u001b[0m\u001b[0;34m,\u001b[0m \u001b[0mdegree\u001b[0m\u001b[0;34m=\u001b[0m\u001b[0;36m1\u001b[0m\u001b[0;34m)\u001b[0m\u001b[0;34m\u001b[0m\u001b[0;34m\u001b[0m\u001b[0m\n\u001b[0m\u001b[1;32m     75\u001b[0m \u001b[0;34m\u001b[0m\u001b[0m\n\u001b[1;32m     76\u001b[0m \u001b[0;31m# Define variational problem\u001b[0m\u001b[0;34m\u001b[0m\u001b[0;34m\u001b[0m\u001b[0;34m\u001b[0m\u001b[0m\n",
      "\u001b[0;32m<ipython-input-5-6392bcc6af2a>\u001b[0m in \u001b[0;36m__init__\u001b[0;34m(self, markers, **kwargs)\u001b[0m\n\u001b[1;32m     63\u001b[0m \u001b[0;32mclass\u001b[0m \u001b[0mPermeability\u001b[0m\u001b[0;34m(\u001b[0m\u001b[0mExpression\u001b[0m\u001b[0;34m)\u001b[0m\u001b[0;34m:\u001b[0m\u001b[0;34m\u001b[0m\u001b[0;34m\u001b[0m\u001b[0m\n\u001b[1;32m     64\u001b[0m     \u001b[0;32mdef\u001b[0m \u001b[0m__init__\u001b[0m\u001b[0;34m(\u001b[0m\u001b[0mself\u001b[0m\u001b[0;34m,\u001b[0m \u001b[0mmarkers\u001b[0m\u001b[0;34m,\u001b[0m \u001b[0;34m**\u001b[0m\u001b[0mkwargs\u001b[0m\u001b[0;34m)\u001b[0m\u001b[0;34m:\u001b[0m\u001b[0;34m\u001b[0m\u001b[0;34m\u001b[0m\u001b[0m\n\u001b[0;32m---> 65\u001b[0;31m         \u001b[0mself\u001b[0m\u001b[0;34m.\u001b[0m\u001b[0mmarkers\u001b[0m \u001b[0;34m=\u001b[0m \u001b[0mmarkers\u001b[0m\u001b[0;34m\u001b[0m\u001b[0;34m\u001b[0m\u001b[0m\n\u001b[0m\u001b[1;32m     66\u001b[0m     \u001b[0;32mdef\u001b[0m \u001b[0meval_cell\u001b[0m\u001b[0;34m(\u001b[0m\u001b[0mself\u001b[0m\u001b[0;34m,\u001b[0m \u001b[0mvalues\u001b[0m\u001b[0;34m,\u001b[0m \u001b[0mx\u001b[0m\u001b[0;34m,\u001b[0m \u001b[0mcell\u001b[0m\u001b[0;34m)\u001b[0m\u001b[0;34m:\u001b[0m\u001b[0;34m\u001b[0m\u001b[0;34m\u001b[0m\u001b[0m\n\u001b[1;32m     67\u001b[0m         \u001b[0;32mif\u001b[0m \u001b[0mself\u001b[0m\u001b[0;34m.\u001b[0m\u001b[0mmarkers\u001b[0m\u001b[0;34m[\u001b[0m\u001b[0mcell\u001b[0m\u001b[0;34m.\u001b[0m\u001b[0mindex\u001b[0m\u001b[0;34m]\u001b[0m \u001b[0;34m==\u001b[0m \u001b[0;36m0\u001b[0m\u001b[0;34m:\u001b[0m\u001b[0;34m\u001b[0m\u001b[0;34m\u001b[0m\u001b[0m\n",
      "\u001b[0;32m/usr/lib/python3/dist-packages/dolfin/function/expression.py\u001b[0m in \u001b[0;36m__setattr__\u001b[0;34m(self, name, value)\u001b[0m\n\u001b[1;32m    436\u001b[0m         \u001b[0;32mif\u001b[0m \u001b[0mname\u001b[0m\u001b[0;34m.\u001b[0m\u001b[0mstartswith\u001b[0m\u001b[0;34m(\u001b[0m\u001b[0;34m\"_\"\u001b[0m\u001b[0;34m)\u001b[0m\u001b[0;34m:\u001b[0m\u001b[0;34m\u001b[0m\u001b[0;34m\u001b[0m\u001b[0m\n\u001b[1;32m    437\u001b[0m             \u001b[0msuper\u001b[0m\u001b[0;34m(\u001b[0m\u001b[0;34m)\u001b[0m\u001b[0;34m.\u001b[0m\u001b[0m__setattr__\u001b[0m\u001b[0;34m(\u001b[0m\u001b[0mname\u001b[0m\u001b[0;34m,\u001b[0m \u001b[0mvalue\u001b[0m\u001b[0;34m)\u001b[0m\u001b[0;34m\u001b[0m\u001b[0;34m\u001b[0m\u001b[0m\n\u001b[0;32m--> 438\u001b[0;31m         \u001b[0;32melif\u001b[0m \u001b[0mname\u001b[0m \u001b[0;32min\u001b[0m \u001b[0mself\u001b[0m\u001b[0;34m.\u001b[0m\u001b[0m_parameters\u001b[0m\u001b[0;34m:\u001b[0m\u001b[0;34m\u001b[0m\u001b[0;34m\u001b[0m\u001b[0m\n\u001b[0m\u001b[1;32m    439\u001b[0m             \u001b[0mself\u001b[0m\u001b[0;34m.\u001b[0m\u001b[0m_parameters\u001b[0m\u001b[0;34m[\u001b[0m\u001b[0mname\u001b[0m\u001b[0;34m]\u001b[0m \u001b[0;34m=\u001b[0m \u001b[0mvalue\u001b[0m\u001b[0;34m\u001b[0m\u001b[0;34m\u001b[0m\u001b[0m\n",
      "\u001b[0;32m/usr/lib/python3/dist-packages/dolfin/function/expression.py\u001b[0m in \u001b[0;36m__getattr__\u001b[0;34m(self, name)\u001b[0m\n\u001b[1;32m    430\u001b[0m             \u001b[0;32mreturn\u001b[0m \u001b[0mself\u001b[0m\u001b[0;34m.\u001b[0m\u001b[0m_parameters\u001b[0m\u001b[0;34m\u001b[0m\u001b[0;34m\u001b[0m\u001b[0m\n\u001b[1;32m    431\u001b[0m         \u001b[0;32melse\u001b[0m\u001b[0;34m:\u001b[0m\u001b[0;34m\u001b[0m\u001b[0;34m\u001b[0m\u001b[0m\n\u001b[0;32m--> 432\u001b[0;31m             \u001b[0;32mreturn\u001b[0m \u001b[0mself\u001b[0m\u001b[0;34m.\u001b[0m\u001b[0m_parameters\u001b[0m\u001b[0;34m[\u001b[0m\u001b[0mname\u001b[0m\u001b[0;34m]\u001b[0m\u001b[0;34m\u001b[0m\u001b[0;34m\u001b[0m\u001b[0m\n\u001b[0m\u001b[1;32m    433\u001b[0m \u001b[0;34m\u001b[0m\u001b[0m\n\u001b[1;32m    434\u001b[0m     \u001b[0;32mdef\u001b[0m \u001b[0m__setattr__\u001b[0m\u001b[0;34m(\u001b[0m\u001b[0mself\u001b[0m\u001b[0;34m,\u001b[0m \u001b[0mname\u001b[0m\u001b[0;34m,\u001b[0m \u001b[0mvalue\u001b[0m\u001b[0;34m)\u001b[0m\u001b[0;34m:\u001b[0m\u001b[0;34m\u001b[0m\u001b[0;34m\u001b[0m\u001b[0m\n",
      "... last 1 frames repeated, from the frame below ...\n",
      "\u001b[0;32m/usr/lib/python3/dist-packages/dolfin/function/expression.py\u001b[0m in \u001b[0;36m__getattr__\u001b[0;34m(self, name)\u001b[0m\n\u001b[1;32m    430\u001b[0m             \u001b[0;32mreturn\u001b[0m \u001b[0mself\u001b[0m\u001b[0;34m.\u001b[0m\u001b[0m_parameters\u001b[0m\u001b[0;34m\u001b[0m\u001b[0;34m\u001b[0m\u001b[0m\n\u001b[1;32m    431\u001b[0m         \u001b[0;32melse\u001b[0m\u001b[0;34m:\u001b[0m\u001b[0;34m\u001b[0m\u001b[0;34m\u001b[0m\u001b[0m\n\u001b[0;32m--> 432\u001b[0;31m             \u001b[0;32mreturn\u001b[0m \u001b[0mself\u001b[0m\u001b[0;34m.\u001b[0m\u001b[0m_parameters\u001b[0m\u001b[0;34m[\u001b[0m\u001b[0mname\u001b[0m\u001b[0;34m]\u001b[0m\u001b[0;34m\u001b[0m\u001b[0;34m\u001b[0m\u001b[0m\n\u001b[0m\u001b[1;32m    433\u001b[0m \u001b[0;34m\u001b[0m\u001b[0m\n\u001b[1;32m    434\u001b[0m     \u001b[0;32mdef\u001b[0m \u001b[0m__setattr__\u001b[0m\u001b[0;34m(\u001b[0m\u001b[0mself\u001b[0m\u001b[0;34m,\u001b[0m \u001b[0mname\u001b[0m\u001b[0;34m,\u001b[0m \u001b[0mvalue\u001b[0m\u001b[0;34m)\u001b[0m\u001b[0;34m:\u001b[0m\u001b[0;34m\u001b[0m\u001b[0;34m\u001b[0m\u001b[0m\n",
      "\u001b[0;31mRecursionError\u001b[0m: maximum recursion depth exceeded"
     ]
    }
   ],
   "source": [
    "\"\"\"\n",
    "FEniCS tutorial demo program: Magnetic field generated by a copper\n",
    "wire wound around an iron cylinder. The solution is computed by\n",
    "solving the Poisson equation for the z-component of the magnetic\n",
    "vector potential.\n",
    "\n",
    "  -Laplace(A_z) = mu_0 * J_z\n",
    "\n",
    "\"\"\"\n",
    "\n",
    "from __future__ import print_function\n",
    "from fenics import *\n",
    "from mshr import *\n",
    "from math import sin, cos, pi\n",
    "\n",
    "a = 1.0   # inner radius of iron cylinder\n",
    "b = 1.2   # outer radius of iron cylinder\n",
    "c_1 = 0.8 # radius for inner circle of copper wires\n",
    "c_2 = 1.4 # radius for outer circle of copper wires\n",
    "r = 0.1   # radius of copper wires\n",
    "R = 5.0   # radius of domain\n",
    "n = 10    # number of windings\n",
    "\n",
    "# Define geometry for background\n",
    "domain = Circle(Point(0, 0), R)\n",
    "\n",
    "# Define geometry for iron cylinder\n",
    "cylinder = Circle(Point(0, 0), b) - Circle(Point(0, 0), a)\n",
    "\n",
    "# Define geometry for wires (N = North (up), S = South (down))\n",
    "angles_N = [i*2*pi/n for i in range(n)]\n",
    "angles_S = [(i + 0.5)*2*pi/n for i in range(n)]\n",
    "wires_N = [Circle(Point(c_1*cos(v), c_1*sin(v)), r) for v in angles_N]\n",
    "wires_S = [Circle(Point(c_2*cos(v), c_2*sin(v)), r) for v in angles_S]\n",
    "\n",
    "# Set subdomain for iron cylinder\n",
    "domain.set_subdomain(1, cylinder)\n",
    "\n",
    "# Set subdomains for wires\n",
    "for (i, wire) in enumerate(wires_N):\n",
    "    domain.set_subdomain(2 + i, wire)\n",
    "for (i, wire) in enumerate(wires_S):\n",
    "    domain.set_subdomain(2 + n + i, wire)\n",
    "\n",
    "# Create mesh\n",
    "mesh = generate_mesh(domain, 128)\n",
    "\n",
    "# Define function space\n",
    "V = FunctionSpace(mesh, 'P', 1)\n",
    "\n",
    "# Define boundary condition\n",
    "bc = DirichletBC(V, Constant(0), 'on_boundary')\n",
    "\n",
    "# Define subdomain markers and integration measure\n",
    "markers = MeshFunction('size_t', mesh, 2, mesh.domains())\n",
    "dx = Measure('dx', domain=mesh, subdomain_data=markers)\n",
    "\n",
    "# Define current densities\n",
    "J_N = Constant(1.0)\n",
    "J_S = Constant(-1.0)\n",
    "\n",
    "# Define magnetic permeability\n",
    "class Permeability(Expression):\n",
    "    def __init__(self, markers, **kwargs):\n",
    "        self.markers = markers\n",
    "    def eval_cell(self, values, x, cell):\n",
    "        if self.markers[cell.index] == 0:\n",
    "            values[0] = 4*pi*1e-7 # vacuum\n",
    "        elif self.markers[cell.index] == 1:\n",
    "            values[0] = 1e-5      # iron (should really be 6.3e-3)\n",
    "        else:\n",
    "            values[0] = 1.26e-6   # copper\n",
    "\n",
    "mu = Permeability(markers, degree=1)\n",
    "\n",
    "# Define variational problem\n",
    "A_z = TrialFunction(V)\n",
    "v = TestFunction(V)\n",
    "a = (1 / mu)*dot(grad(A_z), grad(v))*dx\n",
    "L_N = sum(J_N*v*dx(i) for i in range(2, 2 + n))\n",
    "L_S = sum(J_S*v*dx(i) for i in range(2 + n, 2 + 2*n))\n",
    "L = L_N + L_S\n",
    "\n",
    "# Solve variational problem\n",
    "A_z = Function(V)\n",
    "solve(a == L, A_z, bc)\n",
    "\n",
    "# Compute magnetic field (B = curl A)\n",
    "W = VectorFunctionSpace(mesh, 'P', 1)\n",
    "B = project(as_vector((A_z.dx(1), -A_z.dx(0))), W)\n",
    "\n",
    "# Plot solution\n",
    "plot(A_z)\n",
    "plot(B)\n",
    "\n",
    "# Save solution to file\n",
    "#vtkfile_A_z = File('magnetostatics/potential.pvd')\n",
    "#vtkfile_B = File('magnetostatics/field.pvd')\n",
    "#vtkfile_A_z << A_z\n",
    "#vtkfile_B << B\n",
    "\n",
    "# Hold plot\n",
    "interactive()\n"
   ]
  }
 ],
 "metadata": {
  "kernelspec": {
   "display_name": "Python 3",
   "language": "python",
   "name": "python3"
  },
  "language_info": {
   "codemirror_mode": {
    "name": "ipython",
    "version": 3
   },
   "file_extension": ".py",
   "mimetype": "text/x-python",
   "name": "python",
   "nbconvert_exporter": "python",
   "pygments_lexer": "ipython3",
   "version": "3.7.8-final"
  },
  "latex_envs": {
   "LaTeX_envs_menu_present": true,
   "autoclose": false,
   "autocomplete": true,
   "bibliofile": "biblio.bib",
   "cite_by": "apalike",
   "current_citInitial": 1,
   "eqLabelWithNumbers": true,
   "eqNumInitial": 1,
   "hotkeys": {
    "equation": "Ctrl-E",
    "itemize": "Ctrl-I"
   },
   "labels_anchors": false,
   "latex_user_defs": false,
   "report_style_numbering": false,
   "user_envs_cfg": false
  },
  "toc-showcode": false,
  "toc-showmarkdowntxt": false,
  "toc-showtags": false,
  "varInspector": {
   "cols": {
    "lenName": 16,
    "lenType": 16,
    "lenVar": 40
   },
   "kernels_config": {
    "python": {
     "delete_cmd_postfix": "",
     "delete_cmd_prefix": "del ",
     "library": "var_list.py",
     "varRefreshCmd": "print(var_dic_list())"
    },
    "r": {
     "delete_cmd_postfix": ") ",
     "delete_cmd_prefix": "rm(",
     "library": "var_list.r",
     "varRefreshCmd": "cat(var_dic_list()) "
    }
   },
   "types_to_exclude": [
    "module",
    "function",
    "builtin_function_or_method",
    "instance",
    "_Feature"
   ],
   "window_display": false
  }
 },
 "nbformat": 4,
 "nbformat_minor": 4
}